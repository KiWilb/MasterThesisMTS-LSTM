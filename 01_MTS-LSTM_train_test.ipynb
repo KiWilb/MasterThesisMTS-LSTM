{
 "cells": [
  {
   "cell_type": "markdown",
   "metadata": {},
   "source": [
    "## Crtl+F for 'change' to replace Path names etc.\n",
    "\n",
    "### Training and evaluating a MTS-LSTM\n",
    "1) Loading and/or adjusting a configuration file\n",
    "\n",
    "2) Training a MTS-LSTM based on the configuration file \n",
    "\n",
    "3) Evaluating the model on the testing period/data (get streamflow simulations)\n",
    "\n",
    "4) Determine metrics for each test catchment and create a plot with Qobs and Qsim for each catchment (first for daily, then for hourly results)"
   ]
  },
  {
   "cell_type": "markdown",
   "metadata": {},
   "source": [
    "### Imports etc."
   ]
  },
  {
   "cell_type": "code",
   "execution_count": 1,
   "metadata": {
    "ExecuteTime": {
     "end_time": "2021-06-22T07:28:38.669244Z",
     "start_time": "2021-06-22T07:28:38.662246Z"
    },
    "executionInfo": {
     "elapsed": 1658,
     "status": "ok",
     "timestamp": 1624007997432,
     "user": {
      "displayName": "Ka Wil",
      "photoUrl": "",
      "userId": "18116154252164357583"
     },
     "user_tz": -120
    },
    "id": "YoBXxhHSgs_U"
   },
   "outputs": [],
   "source": [
    "import pickle\n",
    "import os\n",
    "from pathlib import Path\n",
    "import xarray as xr\n",
    "\n",
    "import matplotlib.pyplot as plt\n",
    "import pandas as pd\n",
    "\n",
    "from neuralhydrology.evaluation import metrics, get_tester\n",
    "from neuralhydrology.evaluation.evaluate import start_evaluation\n",
    "from neuralhydrology.nh_run import start_run, eval_run\n",
    "from neuralhydrology.utils.config import Config\n",
    "\n",
    "import torch\n",
    "from ruamel.yaml import YAML  "
   ]
  },
  {
   "cell_type": "code",
   "execution_count": 5,
   "metadata": {},
   "outputs": [],
   "source": [
    "os.environ['NUMEXPR_NUM_THREADS'] = '8'\n",
    "\n",
    "import numexpr as ne"
   ]
  },
  {
   "cell_type": "code",
   "execution_count": 3,
   "metadata": {
    "ExecuteTime": {
     "end_time": "2021-06-22T07:22:38.140830Z",
     "start_time": "2021-06-22T07:22:38.136831Z"
    },
    "colab": {
     "base_uri": "https://localhost:8080/"
    },
    "executionInfo": {
     "elapsed": 21,
     "status": "ok",
     "timestamp": 1624007997433,
     "user": {
      "displayName": "Ka Wil",
      "photoUrl": "",
      "userId": "18116154252164357583"
     },
     "user_tz": -120
    },
    "id": "n8OZjQx_jBiy",
    "outputId": "02a2d023-6334-4034-d320-22251d37e224"
   },
   "outputs": [
    {
     "name": "stdout",
     "output_type": "stream",
     "text": [
      "NVIDIA GeForce RTX 3090\n"
     ]
    }
   ],
   "source": [
    "print(torch.cuda.get_device_name(0))"
   ]
  },
  {
   "cell_type": "markdown",
   "metadata": {
    "id": "qen94m2Dgs_W"
   },
   "source": [
    "## Configuration\n",
    "\n",
    "- fill in work_dir"
   ]
  },
  {
   "cell_type": "code",
   "execution_count": 4,
   "metadata": {
    "ExecuteTime": {
     "end_time": "2021-06-22T07:31:11.793841Z",
     "start_time": "2021-06-22T07:31:11.783844Z"
    }
   },
   "outputs": [
    {
     "data": {
      "text/plain": [
       "'C:\\\\Users\\\\kwilbrand\\\\Katharina\\\\My_MTS-LSTM'"
      ]
     },
     "execution_count": 4,
     "metadata": {},
     "output_type": "execute_result"
    }
   ],
   "source": [
    "# specify needed paths\n",
    "work_dir = Path('C:/Users/kwilbrand/Katharina/My_MTS-LSTM') \n",
    "assert work_dir.exists()\n",
    "os.chdir(work_dir)\n",
    "os.getcwd()"
   ]
  },
  {
   "cell_type": "markdown",
   "metadata": {},
   "source": [
    "- fill in experiment name (as specified in config file)\n",
    "- fill in values for hyperparameters (optional)"
   ]
  },
  {
   "cell_type": "code",
   "execution_count": 5,
   "metadata": {},
   "outputs": [],
   "source": [
    "experiment_name = '00_nldas2_camels'  # change name accordingly\n",
    "\n",
    "\n",
    "# # values for hyperparameter tuning:\n",
    "# batch_size = 2048    # [256, 2048]\n",
    "# hidden_size = 64    # [64, 128]\n",
    "# dropout = 0.2        # [0.2, 0.4]\n",
    "# validate_every = 30  # <= nr of epochs"
   ]
  },
  {
   "cell_type": "markdown",
   "metadata": {},
   "source": [
    "- load and adjust config file \n",
    "- comment first lines in next cell out if no configuration template is used and/or configuration file just needs to be loaded"
   ]
  },
  {
   "cell_type": "code",
   "execution_count": 10,
   "metadata": {
    "ExecuteTime": {
     "end_time": "2021-06-22T07:31:25.572692Z",
     "start_time": "2021-06-22T07:31:25.454529Z"
    },
    "colab": {
     "base_uri": "https://localhost:8080/"
    },
    "executionInfo": {
     "elapsed": 299,
     "status": "ok",
     "timestamp": 1624008202628,
     "user": {
      "displayName": "Ka Wil",
      "photoUrl": "",
      "userId": "18116154252164357583"
     },
     "user_tz": -120
    },
    "id": "DgvrU2Atgs_W",
    "outputId": "c81d10d7-fba6-48d6-fc8f-a6d1724b947e",
    "scrolled": true
   },
   "outputs": [
    {
     "name": "stdout",
     "output_type": "stream",
     "text": [
      "model:\t\t mtslstm\n",
      "use_frequencies: ['1D', '1H']\n",
      "seq_length:\t {'1D': 365, '1H': 336}\n",
      "dataset:\t hourly_camels_us\n",
      "target_variables:\t ['qobs_mm_per_hour']\n"
     ]
    }
   ],
   "source": [
    "config_template_path= Path(\"configs/US/00_nldas2_camels.yml\")  # change path accordingly\n",
    "assert config_template_path.exists()\n",
    "\n",
    "yaml = YAML()\n",
    "run_config = yaml.load(config_template_path)\n",
    "\n",
    "run_config[\"experiment_name\"] = experiment_name\n",
    "# run_config[\"batch_size\"] = batch_size\n",
    "# run_config[\"hidden_size\"] = {'1D': hidden_size, '1H': hidden_size}\n",
    "# run_config[\"output_dropout\"] = dropout\n",
    "# run_config[\"validate_every\"] = validate_every\n",
    "\n",
    "config_path = Path(\"configs/US/\" + experiment_name + \".yml\") # change path accordingly\n",
    "yaml.dump(run_config, config_path)\n",
    "\n",
    "run_config = Config(config_path)\n",
    "# print('model:\\t\\t', run_config.model)\n",
    "# print('use_frequencies:', run_config.use_frequencies)\n",
    "# print('seq_length:\\t', run_config.seq_length)\n",
    "# print('dataset:\\t', run_config.dataset)\n",
    "# print('target_variables:\\t', run_config.target_variables)\n",
    "# print('dynamic_inputs:\\t', run_config.dynamic_inputs)\n",
    "# print('static_attributes:\\t', run_config.static_attributes)"
   ]
  },
  {
   "cell_type": "markdown",
   "metadata": {
    "id": "xNub5bQEgs_Z"
   },
   "source": [
    "## Training"
   ]
  },
  {
   "cell_type": "code",
   "execution_count": 6,
   "metadata": {
    "ExecuteTime": {
     "end_time": "2021-06-22T07:31:44.854752Z",
     "start_time": "2021-06-22T07:31:44.407320Z"
    },
    "colab": {
     "base_uri": "https://localhost:8080/"
    },
    "executionInfo": {
     "elapsed": 565122,
     "status": "ok",
     "timestamp": 1624008771500,
     "user": {
      "displayName": "Ka Wil",
      "photoUrl": "",
      "userId": "18116154252164357583"
     },
     "user_tz": -120
    },
    "id": "LCPRiaApgs_a",
    "outputId": "edc06380-2467-4540-a93b-ab3c248ea4e7",
    "scrolled": true
   },
   "outputs": [],
   "source": [
    "start_run(config_file=config_path)"
   ]
  },
  {
   "cell_type": "markdown",
   "metadata": {
    "id": "fEAMjCbTgs_b"
   },
   "source": [
    "## Evaluation\n",
    "- fill in run_dir (printed in output log from training above, \"experiment_name_date_time\")\n",
    "- output log is also saved as txt file in run_dir"
   ]
  },
  {
   "cell_type": "code",
   "execution_count": 7,
   "metadata": {
    "colab": {
     "base_uri": "https://localhost:8080/"
    },
    "executionInfo": {
     "elapsed": 190451,
     "status": "ok",
     "timestamp": 1624009001665,
     "user": {
      "displayName": "Ka Wil",
      "photoUrl": "",
      "userId": "18116154252164357583"
     },
     "user_tz": -120
    },
    "id": "f4QEc5PSgs_c",
    "outputId": "ecaff05d-2b59-4762-f979-2108be167e2a",
    "scrolled": true
   },
   "outputs": [],
   "source": [
    "run_dir = Path(\"C:/Users/kwilbrand/Katharina/My_MTS-LSTM/runs/00_nldas2_camels_2009_125155\")\n",
    "# config_path = Path('configs/....yml')\n",
    "run_config = Config(Path(config_path))\n",
    "\n",
    "results =  start_evaluation(cfg=run_config, run_dir=run_dir, period='test')"
   ]
  },
  {
   "cell_type": "markdown",
   "metadata": {},
   "source": [
    "### Determine metrics for each test catchment (daily and hourly)\n",
    "- \"results\" is nested dictionary: \n",
    "- Qobs and Qsim are in xr dataset: results[catchment_ID][frequency]['xr']\n",
    "- frequency is one of '1D' or '1H'\n",
    "- fill in correct variable names for Qobs and Qsim "
   ]
  },
  {
   "cell_type": "code",
   "execution_count": 17,
   "metadata": {
    "scrolled": true
   },
   "outputs": [],
   "source": [
    "# # Use this code cell to re-load test-results\n",
    "# with open(run_dir / 'test/model_epoch030/test_results.p', 'rb') as f:\n",
    "#     results = pickle.load(f)\n",
    "\n",
    "\n",
    "#  results['01434025']['1D']['xr']"
   ]
  },
  {
   "cell_type": "code",
   "execution_count": 2,
   "metadata": {
    "colab": {
     "base_uri": "https://localhost:8080/",
     "height": 1000
    },
    "executionInfo": {
     "elapsed": 3575,
     "status": "ok",
     "timestamp": 1624009053520,
     "user": {
      "displayName": "Ka Wil",
      "photoUrl": "",
      "userId": "18116154252164357583"
     },
     "user_tz": -120
    },
    "id": "5cNshOjgdSEV",
    "outputId": "2a7630c7-dbf6-4cb2-90a6-79b475456f5b"
   },
   "outputs": [],
   "source": [
    "# names of dataset variables qsim and qobs (look up in results[catchm_ID][freq]['xr'])\n",
    "qobs_var = 'qobs_mm_per_hour_obs'\n",
    "qsim_var = 'qobs_mm_per_hour_sim'\n",
    "\n",
    "# dataframe to store metrics for each catchment\n",
    "metrics_df = pd.DataFrame()\n",
    "\n",
    "# directory to store figures of time-sereis plots with observed and simulated Q\n",
    "plot_dir = Path(str(run_dir) + '/time-series_plots')\n",
    "if plot_dir.exists() == False:\n",
    "    os.mkdir(plot_dir)\n",
    "\n",
    "for catchm_ID in results.keys():\n",
    "    # extract observations and simulations\n",
    "    daily_qobs = results[catchm_ID][\"1D\"][\"xr\"][qobs_var]\n",
    "    daily_qsim = results[catchm_ID][\"1D\"][\"xr\"][qsim_var]\n",
    "\n",
    "    fig, ax = plt.subplots(figsize=(20,4))\n",
    "    ax.plot(daily_qobs[\"date\"], daily_qobs, label=\"Observed\")\n",
    "    ax.plot(daily_qsim[\"date\"], daily_qsim, label=\"Simulated\")\n",
    "    ax.legend()\n",
    "    ax.set_ylabel(\"Discharge (mm/h)\")\n",
    "    ax.set_title(f\"Test period, catchment {catchm_ID} - daily NSE {results[catchm_ID]['1D']['NSE_1D']:.3f}\")\n",
    "    plt.savefig(str(plot_dir) + '/daily_' + catchm_ID)\n",
    "\n",
    "    # Calculate some metrics\n",
    "    values = metrics.calculate_all_metrics(daily_qobs.isel(time_step=-1), daily_qsim.isel(time_step=-1))\n",
    "    df_temp = pd.DataFrame(values, index=[catchm_ID])\n",
    "    metrics_df = metrics_df.append(other=df_temp)\n",
    "\n",
    "#         plt.close(fig)\n",
    "\n",
    "with open(str(run_dir) + '/metrics_df_daily.pkl', 'wb') as f:\n",
    "    pickle.dump(metrics_df, f, pickle.DEFAULT_PROTOCOL)\n",
    "\n",
    "print(\"Daily metrics:\")\n",
    "metrics_df"
   ]
  },
  {
   "cell_type": "code",
   "execution_count": 1,
   "metadata": {
    "colab": {
     "base_uri": "https://localhost:8080/",
     "height": 1000
    },
    "executionInfo": {
     "elapsed": 3631,
     "status": "ok",
     "timestamp": 1624009073859,
     "user": {
      "displayName": "Ka Wil",
      "photoUrl": "",
      "userId": "18116154252164357583"
     },
     "user_tz": -120
    },
    "id": "zQ851PI0dhJH",
    "outputId": "4b7237cf-fdb5-4410-a670-526c557a4e1e",
    "scrolled": true
   },
   "outputs": [],
   "source": [
    "# names of dataset variables qsim and qobs\n",
    "qobs_var = 'qobs_mm_per_hour_obs'\n",
    "qsim_var = 'qobs_mm_per_hour_sim'\n",
    "\n",
    "# dataframe to store metrics for each catchment\n",
    "metrics_df = pd.DataFrame()\n",
    "\n",
    "# directory to store figures of time-sereis plots with observed and simulated Q\n",
    "plot_dir = Path(str(run_dir) + '/time-series_plots')\n",
    "if plot_dir.exists() == False:\n",
    "    os.mkdir(plot_dir)\n",
    "\n",
    "for catchm_ID in results.keys():\n",
    "    # extract a date slice of observations and simulations\n",
    "    hourly_xr = results[catchm_ID][\"1H\"][\"xr\"].sel(date=slice(\"10-1995\", None))\n",
    "\n",
    "    # The hourly data is indexed with two indices: The date (in days) and the time_step (the hour within that day).\n",
    "    # As we want to get a continuous plot of several days' hours, we select all 24 hours of each day and then stack\n",
    "    # the two dimensions into one consecutive datetime dimension.\n",
    "    hourly_xr = hourly_xr.isel(time_step=slice(-24, None)).stack(datetime=['date', 'time_step'])\n",
    "    hourly_xr['datetime'] = hourly_xr.coords['date'] + hourly_xr.coords['time_step']\n",
    "\n",
    "    hourly_qobs = hourly_xr[qobs_var]\n",
    "    hourly_qsim = hourly_xr[qsim_var]\n",
    "\n",
    "    fig, ax = plt.subplots(figsize=(20,4))\n",
    "    ax.plot(hourly_qobs[\"datetime\"], hourly_qobs, label=\"Observation\")\n",
    "    ax.plot(hourly_qsim[\"datetime\"], hourly_qsim, label=\"Simulation\")\n",
    "    ax.set_ylabel(\"Discharge (mm/h)\")\n",
    "    ax.set_title(f\"Test period, {catchm_ID} - hourly NSE {results[catchm_ID]['1H']['NSE_1H']:.3f}\")\n",
    "    _ = ax.legend()\n",
    "    plt.savefig(str(plot_dir) + '/hourly_' + catchm_ID)\n",
    "#         plt.close(fig)\n",
    "\n",
    "    values = metrics.calculate_all_metrics(hourly_qobs, hourly_qsim, resolution='1H')\n",
    "    df_temp = pd.DataFrame(values, index=[catchm_ID])\n",
    "    metrics_df = metrics_df.append(other=df_temp)\n",
    "\n",
    "# save metrics dataframe as pickle file\n",
    "with open(str(run_dir) + '/metrics_df_hourly.pkl', 'wb') as f:\n",
    "    pickle.dump(metrics_df, f, pickle.DEFAULT_PROTOCOL)\n",
    "    \n",
    "print(\"Hourly metrics:\")\n",
    "metrics_df"
   ]
  }
 ],
 "metadata": {
  "accelerator": "GPU",
  "colab": {
   "collapsed_sections": [],
   "name": "My_MTS-LSTM.ipynb",
   "provenance": []
  },
  "kernelspec": {
   "display_name": "Python 3 (ipykernel)",
   "language": "python",
   "name": "python3"
  },
  "language_info": {
   "codemirror_mode": {
    "name": "ipython",
    "version": 3
   },
   "file_extension": ".py",
   "mimetype": "text/x-python",
   "name": "python",
   "nbconvert_exporter": "python",
   "pygments_lexer": "ipython3",
   "version": "3.7.10"
  },
  "latex_envs": {
   "LaTeX_envs_menu_present": true,
   "autoclose": false,
   "autocomplete": true,
   "bibliofile": "biblio.bib",
   "cite_by": "apalike",
   "current_citInitial": 1,
   "eqLabelWithNumbers": true,
   "eqNumInitial": 1,
   "hotkeys": {
    "equation": "Ctrl-E",
    "itemize": "Ctrl-I"
   },
   "labels_anchors": false,
   "latex_user_defs": false,
   "report_style_numbering": false,
   "user_envs_cfg": false
  },
  "toc": {
   "base_numbering": 1,
   "nav_menu": {},
   "number_sections": true,
   "sideBar": true,
   "skip_h1_title": false,
   "title_cell": "Table of Contents",
   "title_sidebar": "Contents",
   "toc_cell": false,
   "toc_position": {},
   "toc_section_display": true,
   "toc_window_display": false
  },
  "varInspector": {
   "cols": {
    "lenName": 16,
    "lenType": 16,
    "lenVar": 40
   },
   "kernels_config": {
    "python": {
     "delete_cmd_postfix": "",
     "delete_cmd_prefix": "del ",
     "library": "var_list.py",
     "varRefreshCmd": "print(var_dic_list())"
    },
    "r": {
     "delete_cmd_postfix": ") ",
     "delete_cmd_prefix": "rm(",
     "library": "var_list.r",
     "varRefreshCmd": "cat(var_dic_list()) "
    }
   },
   "types_to_exclude": [
    "module",
    "function",
    "builtin_function_or_method",
    "instance",
    "_Feature"
   ],
   "window_display": false
  }
 },
 "nbformat": 4,
 "nbformat_minor": 1
}
